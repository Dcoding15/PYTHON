{
 "cells": [
  {
   "cell_type": "code",
   "execution_count": 1,
   "metadata": {},
   "outputs": [],
   "source": [
    "import numpy as np"
   ]
  },
  {
   "cell_type": "code",
   "execution_count": 6,
   "metadata": {},
   "outputs": [
    {
     "name": "stdout",
     "output_type": "stream",
     "text": [
      "[11. 22. 33. 44. 55. 66.]\n",
      "[ 9. 18. 27. 36. 45. 54.]\n",
      "[ 10.  40.  90. 160. 250. 360.]\n",
      "[0.1 0.1 0.1 0.1 0.1 0.1]\n",
      "[1.0000e+01 4.0000e+02 2.7000e+04 2.5600e+06 3.1250e+08 4.6656e+10]\n",
      "[1. 2. 3. 4. 5. 6.]\n",
      "(array([10., 10., 10., 10., 10., 10.], dtype=float32), array([0., 0., 0., 0., 0., 0.], dtype=float32))\n",
      "[1. 2. 3. 4. 5. 6.]\n",
      "[10. 20. 30. 40. 50. 60.]\n"
     ]
    }
   ],
   "source": [
    "# Simple Arithematic\n",
    "a = np.array([1,2,3,4,5,6],dtype='f')\n",
    "b = np.array([10,20,30,40,50,60],dtype='f')\n",
    "# Addition\n",
    "arr1 = np.add(a,b)\n",
    "# Subtraction\n",
    "arr2 = np.subtract(b,a)\n",
    "# Multiplication\n",
    "arr3 = np.multiply(a,b)\n",
    "# Division\n",
    "arr4 = np.divide(a,b)\n",
    "# Power\n",
    "arr5 = np.power(b,a)\n",
    "# Remainder\n",
    "arr6 = np.remainder(a,b)\n",
    "# Quotient and Mod\n",
    "arr7 = np.divmod(b,a)\n",
    "# Absolute Values\n",
    "arr8_1 = np.absolute(a)\n",
    "arr8_2 = np.absolute(b)\n",
    "print(arr1,arr2,arr3,arr4,arr5,arr6,arr7,arr8_1,arr8_2,sep=\"\\n\")"
   ]
  },
  {
   "cell_type": "code",
   "execution_count": null,
   "metadata": {},
   "outputs": [],
   "source": []
  }
 ],
 "metadata": {
  "kernelspec": {
   "display_name": "virt_env",
   "language": "python",
   "name": "python3"
  },
  "language_info": {
   "codemirror_mode": {
    "name": "ipython",
    "version": 3
   },
   "file_extension": ".py",
   "mimetype": "text/x-python",
   "name": "python",
   "nbconvert_exporter": "python",
   "pygments_lexer": "ipython3",
   "version": "3.11.2"
  }
 },
 "nbformat": 4,
 "nbformat_minor": 2
}
