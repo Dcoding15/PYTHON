{
  "nbformat": 4,
  "nbformat_minor": 0,
  "metadata": {
    "colab": {
      "provenance": [],
      "authorship_tag": "ABX9TyNlQA4IR0B7QRpwbA9k4M5t",
      "include_colab_link": true
    },
    "kernelspec": {
      "name": "python3",
      "display_name": "Python 3"
    },
    "language_info": {
      "name": "python"
    }
  },
  "cells": [
    {
      "cell_type": "markdown",
      "metadata": {
        "id": "view-in-github",
        "colab_type": "text"
      },
      "source": [
        "<a href=\"https://colab.research.google.com/github/Dcoding15/PYTHON/blob/main/Untitled0.ipynb\" target=\"_parent\"><img src=\"https://colab.research.google.com/assets/colab-badge.svg\" alt=\"Open In Colab\"/></a>"
      ]
    },
    {
      "cell_type": "markdown",
      "source": [
        "# **Assignment - 1**"
      ],
      "metadata": {
        "id": "gSoHt3la0dns"
      }
    },
    {
      "cell_type": "markdown",
      "source": [
        "2. Write a program to add two numbers."
      ],
      "metadata": {
        "id": "UUI9Qopu0sR0"
      }
    },
    {
      "cell_type": "code",
      "source": [
        "num1 = 10\n",
        "num2 = 20\n",
        "print(\"Addition of two numbers: \",num1+num2)"
      ],
      "metadata": {
        "colab": {
          "base_uri": "https://localhost:8080/"
        },
        "id": "4CLonORJ1Ack",
        "outputId": "d07abea3-e7d8-4762-c52d-c0f5468574ef"
      },
      "execution_count": null,
      "outputs": [
        {
          "output_type": "stream",
          "name": "stdout",
          "text": [
            "Addition of two numbers:  30\n"
          ]
        }
      ]
    },
    {
      "cell_type": "markdown",
      "source": [
        "3. Write a python program to accept sides from the use and find the area of a triangle."
      ],
      "metadata": {
        "id": "QU_dmL9R1VYd"
      }
    },
    {
      "cell_type": "code",
      "source": [
        "base = int(input('Enter the base of triangle: '))\n",
        "height = int(input('Enter the height of triangle: '))\n",
        "area = (base*height)/2\n",
        "print(\"Area of triangle: \",area)"
      ],
      "metadata": {
        "colab": {
          "base_uri": "https://localhost:8080/"
        },
        "id": "jd0k1j2K1iud",
        "outputId": "6e04e96f-8f2e-45c1-fadb-4d89eb2b6325"
      },
      "execution_count": null,
      "outputs": [
        {
          "output_type": "stream",
          "name": "stdout",
          "text": [
            "Enter the base of triangle: 10\n",
            "Enter the height of triangle: 20\n",
            "Area of triangle:  100.0\n"
          ]
        }
      ]
    },
    {
      "cell_type": "markdown",
      "source": [
        "4. Write a python program to accept two numbers from the user and swap between two numbers using a third variable and without using a third variable."
      ],
      "metadata": {
        "id": "0sJX6MQ62Enl"
      }
    },
    {
      "cell_type": "code",
      "source": [
        "var1 = int(input('Enter the first variable: '))\n",
        "var2 = int(input('Enter the second variable: '))\n",
        "var3 = var1\n",
        "var1 = var2\n",
        "var2 = var3\n",
        "print(\"After swapping: \",var1,var2)\n"
      ],
      "metadata": {
        "colab": {
          "base_uri": "https://localhost:8080/"
        },
        "id": "37aEfoV32a11",
        "outputId": "b682d729-f1ef-4842-a727-27d0e40cf176"
      },
      "execution_count": null,
      "outputs": [
        {
          "output_type": "stream",
          "name": "stdout",
          "text": [
            "Enter the first variable: 10\n",
            "Enter the second variable: 20\n",
            "After swapping:  20 10\n"
          ]
        }
      ]
    },
    {
      "cell_type": "code",
      "source": [
        "var1 = int(input('Enter the first variable: '))\n",
        "var2 = int(input('Enter the second variable: '))\n",
        "var1 = var1 ^ var2\n",
        "var2 = var1 ^ var2\n",
        "var1 = var1 ^ var2\n",
        "print(\"After swapping: \",var1,var2)"
      ],
      "metadata": {
        "colab": {
          "base_uri": "https://localhost:8080/"
        },
        "id": "b0mxEQDu2ycN",
        "outputId": "d1193bba-37e4-4916-9109-53e5c7761573"
      },
      "execution_count": null,
      "outputs": [
        {
          "output_type": "stream",
          "name": "stdout",
          "text": [
            "Enter the first variable: 10\n",
            "Enter the second variable: 20\n",
            "After swapping:  20 10\n"
          ]
        }
      ]
    },
    {
      "cell_type": "markdown",
      "source": [
        "5. Write a python program that will take input from user and find simple interest."
      ],
      "metadata": {
        "id": "VPUeYT9A3Jhk"
      }
    },
    {
      "cell_type": "code",
      "source": [
        "P = int(input('Enter the principal amount: '))\n",
        "R = int(input('Enter the rate of interest: '))\n",
        "T = int(input('Enter the time period in years: '))\n",
        "SI = (P*R*T)/100\n",
        "print(\"Simple Interest: \",SI)"
      ],
      "metadata": {
        "colab": {
          "base_uri": "https://localhost:8080/"
        },
        "id": "Ith9L8803BbG",
        "outputId": "6f9907ec-e669-4db3-c9bf-927480a01a29"
      },
      "execution_count": null,
      "outputs": [
        {
          "output_type": "stream",
          "name": "stdout",
          "text": [
            "Enter the principal amount: 100000\n",
            "Enter the rate of interest: 5\n",
            "Enter the time period in years: 2\n",
            "Simple Interest:  10000.0\n"
          ]
        }
      ]
    },
    {
      "cell_type": "markdown",
      "source": [
        "6. Write a Python program to demonstrate various base conversion functions."
      ],
      "metadata": {
        "id": "anarQklbdg1q"
      }
    },
    {
      "cell_type": "code",
      "source": [
        "num = 10\n",
        "print(\"Binary: \",bin(num))\n",
        "print(\"Octal: \",oct(num))\n",
        "print(\"Hexadecimal: \",hex(num))\n",
        "print(\"------------------------\")\n",
        "\n",
        "num = 0b1010\n",
        "print(\"Decimal: \",int(num))\n",
        "print(\"Octal: \",oct(num))\n",
        "print(\"Hexadecimal: \",hex(num))\n",
        "print(\"------------------------\")\n",
        "\n",
        "num = 0o12\n",
        "print(\"Decimal: \",int(num))\n",
        "print(\"Binary: \",bin(num))\n",
        "print(\"Hexadecimal: \",hex(num))\n",
        "print(\"------------------------\")\n",
        "\n",
        "num = 0xa\n",
        "print(\"Decimal: \",int(num))\n",
        "print(\"Binary: \",bin(num))\n",
        "print(\"Octal: \",oct(num))"
      ],
      "metadata": {
        "colab": {
          "base_uri": "https://localhost:8080/"
        },
        "id": "m-CuH0yOdjrD",
        "outputId": "a266477d-0de9-4e97-f1fe-b36ea5d288ed"
      },
      "execution_count": null,
      "outputs": [
        {
          "output_type": "stream",
          "name": "stdout",
          "text": [
            "Binary:  0b1010\n",
            "Octal:  0o12\n",
            "Hexadecimal:  0xa\n",
            "------------------------\n",
            "Decimal:  10\n",
            "Octal:  0o12\n",
            "Hexadecimal:  0xa\n",
            "------------------------\n",
            "Decimal:  10\n",
            "Binary:  0b1010\n",
            "Hexadecimal:  0xa\n",
            "------------------------\n",
            "Decimal:  10\n",
            "Binary:  0b1010\n",
            "Octal:  0o12\n"
          ]
        }
      ]
    },
    {
      "cell_type": "markdown",
      "source": [
        "7. Write a Python program to demonstrate various type conversion functions."
      ],
      "metadata": {
        "id": "xJcj9lMgdoP6"
      }
    },
    {
      "cell_type": "code",
      "source": [
        "num = 10  # integer\n",
        "print(\"String: \",str(num))\n",
        "print(\"Float: \",float(num))\n",
        "print(\"String: \",str(num))\n",
        "print(\"Complex: \",complex(num))\n",
        "print(\"Boolean: \",bool(num))\n",
        "print(\"------------------------\")\n",
        "\n",
        "num = \"10\"  # string\n",
        "print(\"Integer: \",int(num))\n",
        "print(\"Float: \",float(num))\n",
        "print(\"Complex: \",complex(num))\n",
        "print(\"Boolean: \",bool(num))\n",
        "print(\"------------------------\")\n",
        "\n",
        "num = 10.5  # float\n",
        "print(\"Integer: \",int(num))\n",
        "print(\"String: \",str(num))\n",
        "print(\"Complex: \",complex(num))\n",
        "print(\"Boolean: \",bool(num))\n",
        "print(\"------------------------\")\n",
        "\n",
        "num = 10+5j # complex\n",
        "print(\"String: \",str(num))\n",
        "print(\"Boolean: \",bool(num))\n",
        "print(\"------------------------\")\n",
        "\n",
        "num = True  # boolean\n",
        "print(\"Integer: \",int(num))\n",
        "print(\"String: \",str(num))\n",
        "print(\"Float: \",float(num))\n",
        "print(\"Complex: \",complex(num))\n",
        "print(\"------------------------\")\n",
        "\n",
        "l = [1,2,3,4,5] # list\n",
        "print(\"String: \",str(l))\n",
        "print(\"Tuple: \",tuple(l))\n",
        "print(\"Set: \",set(l))\n",
        "print(\"------------------------\")\n",
        "\n",
        "s = \"Hello\" # string\n",
        "print(\"List: \",list(s))\n",
        "print(\"Tuple: \",tuple(s))\n",
        "print(\"Set: \",set(s))\n",
        "print(\"------------------------\")\n",
        "\n",
        "t = (1,2,3,4,5) # tuple\n",
        "print(\"List: \",list(t))\n",
        "print(\"Set: \",set(t))\n",
        "print(\"String: \",str(t))\n",
        "print(\"------------------------\")\n",
        "\n",
        "s = {1,2,3,4,5} # set\n",
        "print(\"List: \",list(s))\n",
        "print(\"Tuple: \",tuple(s))\n",
        "print(\"String: \",str(s))"
      ],
      "metadata": {
        "colab": {
          "base_uri": "https://localhost:8080/"
        },
        "id": "BLzPxFKldszS",
        "outputId": "2e6ad434-c006-4b90-d596-e105d040393f"
      },
      "execution_count": null,
      "outputs": [
        {
          "output_type": "stream",
          "name": "stdout",
          "text": [
            "String:  10\n",
            "Float:  10.0\n",
            "String:  10\n",
            "Complex:  (10+0j)\n",
            "Boolean:  True\n",
            "------------------------\n",
            "Integer:  10\n",
            "Float:  10.0\n",
            "Complex:  (10+0j)\n",
            "Boolean:  True\n",
            "------------------------\n",
            "Integer:  10\n",
            "String:  10.5\n",
            "Complex:  (10.5+0j)\n",
            "Boolean:  True\n",
            "------------------------\n",
            "String:  (10+5j)\n",
            "Boolean:  True\n",
            "------------------------\n",
            "Integer:  1\n",
            "String:  True\n",
            "Float:  1.0\n",
            "Complex:  (1+0j)\n",
            "------------------------\n",
            "String:  [1, 2, 3, 4, 5]\n",
            "Tuple:  (1, 2, 3, 4, 5)\n",
            "Set:  {1, 2, 3, 4, 5}\n",
            "------------------------\n",
            "List:  ['H', 'e', 'l', 'l', 'o']\n",
            "Tuple:  ('H', 'e', 'l', 'l', 'o')\n",
            "Set:  {'o', 'H', 'e', 'l'}\n",
            "------------------------\n",
            "List:  [1, 2, 3, 4, 5]\n",
            "Set:  {1, 2, 3, 4, 5}\n",
            "String:  (1, 2, 3, 4, 5)\n",
            "------------------------\n",
            "List:  [1, 2, 3, 4, 5]\n",
            "Tuple:  (1, 2, 3, 4, 5)\n",
            "String:  {1, 2, 3, 4, 5}\n"
          ]
        }
      ]
    },
    {
      "cell_type": "markdown",
      "source": [
        "# **Assignment - 2**"
      ],
      "metadata": {
        "id": "HSF6JdCA3si1"
      }
    },
    {
      "cell_type": "markdown",
      "source": [
        "1. Demonstrate the following Operators in python with suitable example.<br>\n",
        "    a) Arithematic Operator<br>\n",
        "    b) Relational Operator<br>\n",
        "    c) Assignment Operator<br>\n",
        "    d) Logical Operator<br>\n",
        "    e) Bitwise Operator<br>\n",
        "    f) Ternary Operator<br>\n",
        "    g) Membership Operator<br>\n",
        "    h) Identity Operator"
      ],
      "metadata": {
        "id": "nC_3jUuN4qs8"
      }
    },
    {
      "cell_type": "code",
      "source": [
        "num1 = 10\n",
        "num2 = 20\n",
        "# Arithematic Operator\n",
        "print(\"Addition of two numbers: \",num1+num2)\n",
        "print(\"Subtraction of two numbers: \",num1-num2)\n",
        "print(\"Multiplication of two numbers: \",num1*num2)\n",
        "print(\"Division of two numbers: \",num1/num2)\n",
        "print(\"Modulus of two numbers: \",num1%num2)\n",
        "print(\"Exponent of two numbers: \",num1**num2)\n",
        "print(\"Floor division of two numbers: \",num1//num2)\n",
        "\n",
        "# Relational Opeartor\n",
        "num1 = 10\n",
        "num2 = 20\n",
        "print(\"If both the number are same: \",num1==num2)\n",
        "print(\"If both the number are not same: \",num1!=num2)\n",
        "print(\"If first number is greater than second number: \",num1>num2)\n",
        "print(\"If first number is less than second number: \",num1<num2)\n",
        "print(\"If first number is greater than or equal to second number: \",num1>=num2)\n",
        "print(\"If first number is less than or equal to second number: \",num1<=num2)\n",
        "\n",
        "# Assignment Operator\n",
        "num1 = 10\n",
        "num2 = 20\n",
        "print(\"Assigning value of num2 to num1: \",num1)\n",
        "num1 = 10\n",
        "num2 = 20\n",
        "num1+=num2\n",
        "print(\"Adding num2 to num1 and assign to num1: \",num1)\n",
        "num1 = 10\n",
        "num2 = 20\n",
        "num1-=num2\n",
        "print(\"Subtract num2 to num1 and assign to num1: \",num1)\n",
        "num1 = 10\n",
        "num2 = 20\n",
        "num1*=num2\n",
        "print(\"Multiply num2 to num1 and assign to num1: \",num1)\n",
        "num1 = 10\n",
        "num2 = 20\n",
        "num1/=num2\n",
        "print(\"Dividing num2 to num1 and assign to num1: \",num1)\n",
        "num1 = 10\n",
        "num2 = 20\n",
        "num1%=num2\n",
        "print(\"Modulus num2 to num1 and assign to num1: \",num1)\n",
        "num1 = 10\n",
        "num2 = 5\n",
        "num1**=num2\n",
        "print(\"Exponent num2 to num1 and assign to num1: \",num1)\n",
        "num1 = 10\n",
        "num2 = 20\n",
        "num1//=num2\n",
        "print(\"Floor division num2 to num1 and assign to num1: \",num1)\n",
        "\n",
        "# Logical Operator\n",
        "num1 = True\n",
        "num2 = False\n",
        "print(\"Logical AND: \",num1 and num2)\n",
        "print(\"Logical OR: \",num1 or num2)\n",
        "print(\"Logical NOT: \",not num1)\n",
        "\n",
        "# Bitwise Operator\n",
        "num1 = 0b0110\n",
        "num2 = 0b0011\n",
        "print(\"Bitwise AND: \",num1 & num2)\n",
        "print(\"Bitwise OR: \",num1 | num2)\n",
        "print(\"Bitwise XOR: \",num1 ^ num2)\n",
        "print(\"Bitwise NOT: \",~num1)\n",
        "print(\"Bitwise Left Shift: \",num1 << 1)\n",
        "print(\"Bitwise Right Shift: \",num1 >> 1)\n",
        "\n",
        "# Ternary Operator\n",
        "num1 = 10\n",
        "num2 = 20\n",
        "print(\"num1 is greater than num2\" if num1>num2 else \"num2 is greater than num1\")\n",
        "\n",
        " # Membership Operator\n",
        "num1 = 10\n",
        "num2 = 20\n",
        "list1 = [10,20,30,40,50]\n",
        "print(\"If num1 is present in list1: \",num1 in list1)\n",
        "print(\"If num2 is not present in list1: \",num2 not in list1)\n",
        "\n",
        "# Identity Operator\n",
        "num1 = 10\n",
        "num2 = 20\n",
        "print(\"If num1 is same as num2: \",num1 is num2)\n",
        "print(\"If num1 is not same as num2: \",num1 is not num2)"
      ],
      "metadata": {
        "colab": {
          "base_uri": "https://localhost:8080/"
        },
        "id": "G35cIKgN5eGp",
        "outputId": "ae245700-0abd-40da-f2ee-7ae22fdb5a4e"
      },
      "execution_count": null,
      "outputs": [
        {
          "output_type": "stream",
          "name": "stdout",
          "text": [
            "Addition of two numbers:  30\n",
            "Subtraction of two numbers:  -10\n",
            "Multiplication of two numbers:  200\n",
            "Division of two numbers:  0.5\n",
            "Modulus of two numbers:  10\n",
            "Exponent of two numbers:  100000000000000000000\n",
            "Floor division of two numbers:  0\n",
            "If both the number are same:  False\n",
            "If both the number are not same:  True\n",
            "If first number is greater than second number:  False\n",
            "If first number is less than second number:  True\n",
            "If first number is greater than or equal to second number:  False\n",
            "If first number is less than or equal to second number:  True\n",
            "Assigning value of num2 to num1:  10\n",
            "Adding num2 to num1 and assign to num1:  30\n",
            "Subtract num2 to num1 and assign to num1:  -10\n",
            "Multiply num2 to num1 and assign to num1:  200\n",
            "Dividing num2 to num1 and assign to num1:  0.5\n",
            "Modulus num2 to num1 and assign to num1:  10\n",
            "Exponent num2 to num1 and assign to num1:  100000\n",
            "Floor division num2 to num1 and assign to num1:  0\n",
            "Logical AND:  False\n",
            "Logical OR:  True\n",
            "Logical NOT:  False\n",
            "Bitwise AND:  2\n",
            "Bitwise OR:  7\n",
            "Bitwise XOR:  5\n",
            "Bitwise NOT:  -7\n",
            "Bitwise Left Shift:  12\n",
            "Bitwise Right Shift:  3\n",
            "num2 is greater than num1\n",
            "If num1 is present in list1:  True\n",
            "If num2 is not present in list1:  False\n",
            "If num1 is same as num2:  False\n",
            "If num1 is not same as num2:  True\n"
          ]
        }
      ]
    },
    {
      "cell_type": "markdown",
      "source": [
        "2. Write Python program that:<br>\n",
        "    a. Prompts the user for their first name and last name using input().<br>\n",
        "    b. Prints a greeting message using print(), where the greeting includes the full name (both first and last name) on one line."
      ],
      "metadata": {
        "id": "gC-VjidG8-xd"
      }
    },
    {
      "cell_type": "code",
      "source": [
        "fname = input(\"Enter first name: \")\n",
        "lname = input(\"Enter last name: \")\n",
        "print(\"Hello\",fname,lname)"
      ],
      "metadata": {
        "colab": {
          "base_uri": "https://localhost:8080/"
        },
        "id": "lupiJkbB9mDK",
        "outputId": "96151edb-6ff0-4fb5-d0ae-c876d6ca9bb5"
      },
      "execution_count": null,
      "outputs": [
        {
          "output_type": "stream",
          "name": "stdout",
          "text": [
            "Enter first name: Debrishi\n",
            "Enter last name: Biswas\n",
            "Hello Debrishi Biswas\n"
          ]
        }
      ]
    },
    {
      "cell_type": "markdown",
      "source": [
        "3. Modify the program to:<br>\n",
        "    a. Print the greeting message using print() with a custom separator (sep attribute) between the first name and last name.<br>\n",
        "    b. Ensure that the greeting message ends with a specific string (e.g., \"Have a great day!\") using the end attribute."
      ],
      "metadata": {
        "id": "tWSYvI_y-OwF"
      }
    },
    {
      "cell_type": "code",
      "source": [
        "fname = input(\"Enter first name: \")\n",
        "lname = input(\"Enter last name: \")\n",
        "print(\"Hello\",fname,lname,sep=\" || \",end=\" Have a great day!\")"
      ],
      "metadata": {
        "colab": {
          "base_uri": "https://localhost:8080/"
        },
        "id": "eYl7ibUy-dUV",
        "outputId": "1875902a-c7b5-4731-9273-0fb578c1eddc"
      },
      "execution_count": null,
      "outputs": [
        {
          "output_type": "stream",
          "name": "stdout",
          "text": [
            "Enter first name: Debrishi\n",
            "Enter last name: Biswas\n",
            "Hello || Debrishi || Biswas Have a great day!"
          ]
        }
      ]
    },
    {
      "cell_type": "markdown",
      "source": [
        "4. Write a Python program that:<br>\n",
        "    a. Takes three integer inputs from the user and prints them in a single line with each number separated by a custom separator (e.g., \", \").<br>\n",
        "    b. Ensure the output ends with a custom string (e.g., \" - End of input\")."
      ],
      "metadata": {
        "id": "9dJVBUWj_aAV"
      }
    },
    {
      "cell_type": "code",
      "source": [
        "num1 = int(input(\"Enter first number: \"))\n",
        "num2 = int(input(\"Enter second number: \"))\n",
        "num3 = int(input(\"Enter third number: \"))\n",
        "print(num1,num2,num3,sep=\", \",end=\" - End of input\")"
      ],
      "metadata": {
        "colab": {
          "base_uri": "https://localhost:8080/"
        },
        "id": "WxONQptR_nDy",
        "outputId": "7d46fd53-0332-4435-d089-ab1d328bd40b"
      },
      "execution_count": null,
      "outputs": [
        {
          "output_type": "stream",
          "name": "stdout",
          "text": [
            "Enter first number: 10\n",
            "Enter second number: 20\n",
            "Enter third number: 30\n",
            "10, 20, 30 - End of input"
          ]
        }
      ]
    },
    {
      "cell_type": "markdown",
      "source": [
        "5. Write a Python program that: <br>\n",
        "    a. Demonstrates the use of the replacement operator {} by formatting a string to include values obtained from user inputs. The string should include a name, age, and city.<br>\n",
        "    b. Use print() to format and display a message such as \"Name: {name}, Age: {age}, City: {city}\", where {name}, {age}, and {city} are replaced with actual values from user inputs."
      ],
      "metadata": {
        "id": "8r-UOHS5AAUC"
      }
    },
    {
      "cell_type": "code",
      "source": [
        "name = input(\"Enter your name: \")\n",
        "age = int(input(\"Enter your age: \"))\n",
        "city = input(\"Enter your city: \")\n",
        "print(f\"Name: {name}, Age: {age}, City: {city}\")"
      ],
      "metadata": {
        "colab": {
          "base_uri": "https://localhost:8080/"
        },
        "id": "87VmZB3DALrz",
        "outputId": "97f5b0fa-0a27-40be-ad2a-66b64ebe3b6b"
      },
      "execution_count": null,
      "outputs": [
        {
          "output_type": "stream",
          "name": "stdout",
          "text": [
            "Enter your name: Debrishi\n",
            "Enter your age: 21\n",
            "Enter your city: Kolkata\n",
            "Name: Debrishi, Age: 21, City: Kolkata\n"
          ]
        }
      ]
    },
    {
      "cell_type": "markdown",
      "source": [
        "6. Write a Python program that:<br>\n",
        "   a. Collects a list of five items from the user and prints them in a single line, separated by a custom separator (e.g., \" | \").<br>\n",
        "   b. Ensure the output ends with a custom message using the end attribute (e.g., \" - Items listed\")."
      ],
      "metadata": {
        "id": "5BVXM4P-aBRC"
      }
    },
    {
      "cell_type": "code",
      "source": [
        "l = [ i for i in input().split()]\n",
        "print(*l,sep=\" | \",end=\" - Items listed\")"
      ],
      "metadata": {
        "colab": {
          "base_uri": "https://localhost:8080/"
        },
        "id": "0v_jX7YuaVPK",
        "outputId": "caeae961-cd05-4c61-e0aa-2b9d7cf81355"
      },
      "execution_count": null,
      "outputs": [
        {
          "output_type": "stream",
          "name": "stdout",
          "text": [
            "red green blue yellow black\n",
            "red | green | blue | yellow | black - Items listed"
          ]
        }
      ]
    },
    {
      "cell_type": "markdown",
      "source": [
        "7. Write a Python program that:<br>\n",
        "   a. Demonstrates formatting a complex string with multiple replacement fields using the replacement operator {}. Include fields such as a product name quantity, and price.<br>\n",
        "   b. Print a formatted receipt with a message like \"Product: <product_name>, Quantity: <quantity>, Price: <price>\"."
      ],
      "metadata": {
        "id": "9cwwWaZGbmLp"
      }
    },
    {
      "cell_type": "code",
      "source": [
        "product_name = input(\"Enter product name: \")\n",
        "quantity = int(input(\"Enter quantity: \"))\n",
        "price = float(input(\"Enter price: \"))\n",
        "print(f\"Product: {product_name}, Quantity: {quantity}, Price: {price}\")"
      ],
      "metadata": {
        "colab": {
          "base_uri": "https://localhost:8080/"
        },
        "id": "ZgqQujLwb1za",
        "outputId": "c8b3d889-3e12-4351-c4be-2be46a5cef58"
      },
      "execution_count": null,
      "outputs": [
        {
          "output_type": "stream",
          "name": "stdout",
          "text": [
            "Enter product name: apple\n",
            "Enter quantity: 10\n",
            "Enter price: 2\n",
            "Product: apple, Quantity: 10, Price: 2.0\n"
          ]
        }
      ]
    },
    {
      "cell_type": "markdown",
      "source": [
        "8. Write a python program to check if a number is even or odd."
      ],
      "metadata": {
        "id": "RPh3sGlgdQEV"
      }
    },
    {
      "cell_type": "code",
      "source": [
        "num = int(input(\"Enter a number: \"))\n",
        "if num%2==0:\n",
        "    print(\"Number is even\")\n",
        "else:\n",
        "    print(\"Number is odd\")"
      ],
      "metadata": {
        "colab": {
          "base_uri": "https://localhost:8080/"
        },
        "id": "6qsLgsk8gpNL",
        "outputId": "e46bfa8d-fe61-45b5-ede6-96e5f40f1224"
      },
      "execution_count": null,
      "outputs": [
        {
          "output_type": "stream",
          "name": "stdout",
          "text": [
            "Enter a number: 20\n",
            "Number is even\n"
          ]
        }
      ]
    },
    {
      "cell_type": "markdown",
      "source": [
        "9. Write a python program to check whether a given number is divisible by 5 or 11 or not."
      ],
      "metadata": {
        "id": "Uz6X_OE0gyha"
      }
    },
    {
      "cell_type": "code",
      "source": [
        "num = int(input(\"Enter a number: \"))\n",
        "if num%5==0 or num%11==0:\n",
        "    print(\"Number is divisible by 5 and 11\")\n",
        "else:\n",
        "    print(\"Number is not divisible by 5 and 11\")"
      ],
      "metadata": {
        "colab": {
          "base_uri": "https://localhost:8080/"
        },
        "id": "BvyPLXi-g10D",
        "outputId": "d3c0516e-4d67-4031-835a-e06c510dad22"
      },
      "execution_count": null,
      "outputs": [
        {
          "output_type": "stream",
          "name": "stdout",
          "text": [
            "Enter a number: 55\n",
            "Number is divisible by 5 and 11\n"
          ]
        }
      ]
    },
    {
      "cell_type": "markdown",
      "source": [
        "10. Write a python program to check whether a number is divisible by 2 and 3."
      ],
      "metadata": {
        "id": "7Cs7pOnYg-Z7"
      }
    },
    {
      "cell_type": "code",
      "source": [
        "num = int(input(\"Enter a number: \"))\n",
        "if num%2==0 and num%3==0:\n",
        "    print(\"Number is divisible by 2 and 3\")\n",
        "else:\n",
        "    print(\"Number is not divisible by 2 and 3\")"
      ],
      "metadata": {
        "colab": {
          "base_uri": "https://localhost:8080/"
        },
        "id": "qBnrR9ZGhC0D",
        "outputId": "3a87c077-c5f5-49f8-a654-0dc3f7b9dc75"
      },
      "execution_count": null,
      "outputs": [
        {
          "output_type": "stream",
          "name": "stdout",
          "text": [
            "Enter a number: 12\n",
            "Number is divisible by 2 and 3\n"
          ]
        }
      ]
    },
    {
      "cell_type": "markdown",
      "source": [
        "11. Write a python program to check the greatest among three numbers."
      ],
      "metadata": {
        "id": "V9VaXdtvh6Mi"
      }
    },
    {
      "cell_type": "code",
      "source": [
        "num1 = int(input(\"Enter first number: \"))\n",
        "num2 = int(input(\"Enter second number: \"))\n",
        "num3 = int(input(\"Enter third number: \"))\n",
        "if num1>num2 and num1>num3:\n",
        "    print(\"First number is greatest\")\n",
        "elif num2>num1 and num2>num3:\n",
        "    print(\"Second number is greatest\")\n",
        "elif num3>num1 and num3>num2:\n",
        "    print(\"Third number is greatest\")\n",
        "else:\n",
        "    print(\"All numbers are equal\")"
      ],
      "metadata": {
        "colab": {
          "base_uri": "https://localhost:8080/"
        },
        "id": "c-wGRCFnh8cT",
        "outputId": "069cf696-8380-46b1-9f6d-80a9fec50b43"
      },
      "execution_count": null,
      "outputs": [
        {
          "output_type": "stream",
          "name": "stdout",
          "text": [
            "Enter first number: 10\n",
            "Enter second number: 20\n",
            "Enter third number: 30\n",
            "Third number is greatest\n"
          ]
        }
      ]
    },
    {
      "cell_type": "markdown",
      "source": [
        "12. Write a python program to check if a year is a leap year or not."
      ],
      "metadata": {
        "id": "M7PfAo3DmNR6"
      }
    },
    {
      "cell_type": "code",
      "source": [
        "num = int(input(\"Enter a year: \"))\n",
        "if num%4==0:\n",
        "    print(\"Year is a leap year\")\n",
        "else:\n",
        "    print(\"Year is not a leap year\")"
      ],
      "metadata": {
        "colab": {
          "base_uri": "https://localhost:8080/"
        },
        "id": "gIg5DGhfmOzS",
        "outputId": "42638b1c-a4a3-4630-cfa1-44d63bb5751d"
      },
      "execution_count": null,
      "outputs": [
        {
          "output_type": "stream",
          "name": "stdout",
          "text": [
            "Enter a year: 2024\n",
            "Year is a leap year\n"
          ]
        }
      ]
    },
    {
      "cell_type": "markdown",
      "source": [
        "13. Write a python program to calculate the student grade using if-else. <br>\n",
        "If percentage > 85 print A grade, <br>\n",
        "If percentage < 85 && percentage >= 75 print B grade, <br>\n",
        "If percentage < 75 && percentage >= 50 print C grade, <br>\n",
        "If percentage > 30 && percentage <= 50 print D grade, <br>\n",
        "If percentage < 30 print fail. <br>"
      ],
      "metadata": {
        "id": "zS1rKMckmn1T"
      }
    },
    {
      "cell_type": "code",
      "source": [
        "num = int(input(\"Enter your percentage: \"))\n",
        "if num>85:\n",
        "    print(\"A grade\")\n",
        "elif num<85 and num>=75:\n",
        "    print(\"B grade\")\n",
        "elif num<75 and num>=50:\n",
        "    print(\"C grade\")\n",
        "elif num>30 and num<=50:\n",
        "    print(\"D grade\")\n",
        "else:\n",
        "    print(\"Fail\")"
      ],
      "metadata": {
        "colab": {
          "base_uri": "https://localhost:8080/"
        },
        "id": "gs9BtB7Bmq0i",
        "outputId": "dc0515d6-43d1-4cee-cfdd-3886afc9f190"
      },
      "execution_count": null,
      "outputs": [
        {
          "output_type": "stream",
          "name": "stdout",
          "text": [
            "Enter your percentage: 75\n",
            "B grade\n"
          ]
        }
      ]
    },
    {
      "cell_type": "markdown",
      "source": [
        "14. Prepare a calculator using a switch case."
      ],
      "metadata": {
        "id": "evG5JkhnnRYq"
      }
    },
    {
      "cell_type": "code",
      "source": [
        "num1 = int(input(\"Enter first number: \"))\n",
        "num2 = int(input(\"Enter second number: \"))\n",
        "print(\"1. Addition\\n2. Subtraction\\n3. Multiplication\\n4. Division\")\n",
        "choice = int(input(\"Enter your choice: \"))\n",
        "match choice:\n",
        "    case 1:\n",
        "        print(\"Addition: \",num1+num2)\n",
        "    case 2:\n",
        "        print(\"Subtraction: \",num1-num2)\n",
        "    case 3:\n",
        "        print(\"Multiplication: \",num1*num2)\n",
        "    case 4:\n",
        "        print(\"Division: \",num1/num2)\n",
        "    case _:\n",
        "        print(\"Invalid choice\")"
      ],
      "metadata": {
        "colab": {
          "base_uri": "https://localhost:8080/"
        },
        "id": "h9L6suXhn0eb",
        "outputId": "d06b969c-af1d-4361-af0d-58071466d8d7"
      },
      "execution_count": null,
      "outputs": [
        {
          "output_type": "stream",
          "name": "stdout",
          "text": [
            "Enter first number: 10\n",
            "Enter second number: 20\n",
            "1. Addition\n",
            "2. Subtraction\n",
            "3. Multiplication\n",
            "4. Division\n",
            "Enter your choice: 3\n",
            "Multiplication:  200\n"
          ]
        }
      ]
    },
    {
      "cell_type": "markdown",
      "source": [
        "15. Find out all the geometric shapes using a switch case."
      ],
      "metadata": {
        "id": "rQyUQCjnobaq"
      }
    },
    {
      "cell_type": "code",
      "source": [
        "print(\"1. Circle\\n2. Square\\n3. Rectangle\\n4. Triangle\")\n",
        "choice = int(input(\"Enter your choice: \"))\n",
        "match choice:\n",
        "    case 1:\n",
        "        print(\"Circle\")\n",
        "    case 2:\n",
        "        print(\"Square\")\n",
        "    case 3:\n",
        "        print(\"Rectangle\")\n",
        "    case 4:\n",
        "        print(\"Traingle\")\n",
        "    case _:\n",
        "        print(\"Invalid choice\")\n"
      ],
      "metadata": {
        "colab": {
          "base_uri": "https://localhost:8080/"
        },
        "id": "WW3WH_aqodQj",
        "outputId": "1d0f2d97-47a9-4120-98d2-e22ad40d2849"
      },
      "execution_count": null,
      "outputs": [
        {
          "output_type": "stream",
          "name": "stdout",
          "text": [
            "Enter a number: 3\n",
            "Rectangle\n"
          ]
        }
      ]
    },
    {
      "cell_type": "markdown",
      "source": [
        "16. Write a python program using a loop to count the number of even and odd numbers from a series of numbers."
      ],
      "metadata": {
        "id": "UNGYsUi1qeIS"
      }
    },
    {
      "cell_type": "code",
      "source": [
        "n = int(input(\"Enter the series of elements: \"))\n",
        "count_even = 0\n",
        "count_odd = 0\n",
        "for i in range(n):\n",
        "    if i%2==0:\n",
        "      count_even += 1\n",
        "    if i%2!=0:\n",
        "      count_odd += 1\n",
        "print(\"No. of even:\",count_even)\n",
        "print(\"No. of odd:\",count_odd)"
      ],
      "metadata": {
        "colab": {
          "base_uri": "https://localhost:8080/"
        },
        "id": "_K-MsZmxqh3D",
        "outputId": "f410976b-7575-4629-9535-2d788b7aeddb"
      },
      "execution_count": null,
      "outputs": [
        {
          "output_type": "stream",
          "name": "stdout",
          "text": [
            "Enter the series of elements: 10\n",
            "No. of even: 5\n",
            "No. of odd: 5\n"
          ]
        }
      ]
    },
    {
      "cell_type": "markdown",
      "source": [
        "17. Write a python program to calculate the factorial of a given number using a for loop."
      ],
      "metadata": {
        "id": "06vN4yrFrpoi"
      }
    },
    {
      "cell_type": "code",
      "source": [
        "num = int(input(\"Enter a number: \"))\n",
        "fact = 1\n",
        "for i in range(1,num+1):\n",
        "    fact *= i\n",
        "print(\"Factorial: \",fact)"
      ],
      "metadata": {
        "colab": {
          "base_uri": "https://localhost:8080/"
        },
        "id": "ugv49-PJrrna",
        "outputId": "7a60229f-7364-4c47-94d8-b2fdc45ed03e"
      },
      "execution_count": null,
      "outputs": [
        {
          "output_type": "stream",
          "name": "stdout",
          "text": [
            "Enter a number: 5\n",
            "Factorial:  120\n"
          ]
        }
      ]
    },
    {
      "cell_type": "markdown",
      "source": [
        "18. Write a python program to find if a number is prime or not."
      ],
      "metadata": {
        "id": "6ccJuAvur1Tr"
      }
    },
    {
      "cell_type": "code",
      "source": [
        "num = int(input(\"Enter a number: \"))\n",
        "for i in range(2,num):\n",
        "    if num%i==0:\n",
        "        print(\"Number is not prime\")\n",
        "        break\n",
        "else:\n",
        "    print(\"Number is prime\")"
      ],
      "metadata": {
        "colab": {
          "base_uri": "https://localhost:8080/"
        },
        "id": "0TsgRWyUr4NL",
        "outputId": "9b61c9a3-6bed-4fb7-eab2-5b734979ae66"
      },
      "execution_count": null,
      "outputs": [
        {
          "output_type": "stream",
          "name": "stdout",
          "text": [
            "Enter a number: 7\n",
            "Number is prime\n"
          ]
        }
      ]
    },
    {
      "cell_type": "markdown",
      "source": [
        "19. Write a python program to find the reverse of a given number using while loop."
      ],
      "metadata": {
        "id": "EmZDBihMsn_i"
      }
    },
    {
      "cell_type": "code",
      "source": [
        "num = int(input(\"Enter a number: \"))\n",
        "rev = 0\n",
        "while num>0:\n",
        "    rev = rev*10 + num%10\n",
        "    num //= 10\n",
        "print(\"Reverse: \",rev)"
      ],
      "metadata": {
        "colab": {
          "base_uri": "https://localhost:8080/"
        },
        "id": "s3LRKrixstmq",
        "outputId": "8f5a073c-59dc-4c80-fd46-9f13c734484a"
      },
      "execution_count": null,
      "outputs": [
        {
          "output_type": "stream",
          "name": "stdout",
          "text": [
            "Enter a number: 1234\n",
            "Reverse:  4321\n"
          ]
        }
      ]
    },
    {
      "cell_type": "markdown",
      "source": [
        "20. Write a python program to find whether a number is Armstrong or not."
      ],
      "metadata": {
        "id": "QsGpc1mes5KS"
      }
    },
    {
      "cell_type": "code",
      "source": [
        "num = int(input(\"Enter a number: \"))\n",
        "temp = num\n",
        "sum = 0\n",
        "count = 0\n",
        "# no. of digits\n",
        "while temp>0:\n",
        "    count += 1\n",
        "    temp //= 10\n",
        "temp = num\n",
        "while num>0:\n",
        "    sum += (num%10)**count\n",
        "    num //= 10\n",
        "if sum==temp:\n",
        "    print(\"Number is Armstrong\")\n",
        "else:\n",
        "    print(\"Number is not Armstrong\")"
      ],
      "metadata": {
        "colab": {
          "base_uri": "https://localhost:8080/"
        },
        "id": "PlwIrNQhs7K7",
        "outputId": "ff512383-4ddb-40c3-c824-a0b0ce5b94d0"
      },
      "execution_count": null,
      "outputs": [
        {
          "output_type": "stream",
          "name": "stdout",
          "text": [
            "Enter a number: 1634\n",
            "Number is Armstrong\n"
          ]
        }
      ]
    },
    {
      "cell_type": "markdown",
      "source": [
        "21. Demonstrate the following control transfer statements in Python with suitable examples.<br>\n",
        "a. break<br>\n",
        "b. continue<br>\n",
        "c. pass"
      ],
      "metadata": {
        "id": "1EZpDyljuHfi"
      }
    },
    {
      "cell_type": "code",
      "source": [
        "for i in range(10):\n",
        "    if i==5:\n",
        "        break\n",
        "    print(i)\n",
        "\n",
        "print(\"------------------------------\")\n",
        "for i in range(10):\n",
        "    if i==5:\n",
        "        continue\n",
        "    print(i)\n",
        "\n",
        "print(\"------------------------------\")\n",
        "for i in range(10):\n",
        "    if i==5:\n",
        "        pass\n",
        "    print(i)"
      ],
      "metadata": {
        "colab": {
          "base_uri": "https://localhost:8080/"
        },
        "id": "bt_GC7oXuOSa",
        "outputId": "50cfa0cd-9cbb-46c4-d39c-f62f50e96123"
      },
      "execution_count": null,
      "outputs": [
        {
          "output_type": "stream",
          "name": "stdout",
          "text": [
            "0\n",
            "1\n",
            "2\n",
            "3\n",
            "4\n",
            "------------------------------\n",
            "0\n",
            "1\n",
            "2\n",
            "3\n",
            "4\n",
            "6\n",
            "7\n",
            "8\n",
            "9\n",
            "------------------------------\n",
            "0\n",
            "1\n",
            "2\n",
            "3\n",
            "4\n",
            "5\n",
            "6\n",
            "7\n",
            "8\n",
            "9\n"
          ]
        }
      ]
    },
    {
      "cell_type": "markdown",
      "source": [
        "22. Write a python program to print the Fibonacci series."
      ],
      "metadata": {
        "id": "YcbbWZkyvSDy"
      }
    },
    {
      "cell_type": "code",
      "source": [
        "num = int(input(\"Enter the number of terms: \"))\n",
        "a = 0\n",
        "b = 1\n",
        "for i in range(num):\n",
        "    c = a+b\n",
        "    print(a)\n",
        "    a = b\n",
        "    b = c"
      ],
      "metadata": {
        "colab": {
          "base_uri": "https://localhost:8080/"
        },
        "id": "wN-LS_QHvT96",
        "outputId": "01eda105-3a6e-4b7c-f7bb-97d39a401436"
      },
      "execution_count": null,
      "outputs": [
        {
          "output_type": "stream",
          "name": "stdout",
          "text": [
            "Enter the number of terms: 10\n",
            "0\n",
            "1\n",
            "1\n",
            "2\n",
            "3\n",
            "5\n",
            "8\n",
            "13\n",
            "21\n",
            "34\n"
          ]
        }
      ]
    },
    {
      "cell_type": "markdown",
      "source": [
        "23. Pattern Printing in Python.<br>\n",
        "  a. right half pyramid <br>\n",
        "  b. inverted right half pyramid <br>\n",
        "  c. right half pyramid only with 0 and 1 alternatively <br>\n",
        "  d. diamod pattern <br>"
      ],
      "metadata": {
        "id": "G3SBdDUbvyBh"
      }
    },
    {
      "cell_type": "code",
      "source": [
        "num = int(input(\"Enter the number of rows: \"))\n",
        "for i in range(num):\n",
        "    for j in range(i+1):\n",
        "        print(\"*\",end=\" \")\n",
        "    print()\n",
        "\n",
        "print(\"------------------------------\")\n",
        "for i in range(num):\n",
        "    for j in range(num-i):\n",
        "      print(\"*\",end=\" \")\n",
        "    print()\n",
        "\n",
        "print(\"------------------------------\")\n",
        "for i in range(num):\n",
        "    for j in range(i+1):\n",
        "        if j%2==0:\n",
        "            print(\"1\",end=\" \")\n",
        "        else:\n",
        "            print(\"0\",end=\" \")\n",
        "    print()\n",
        "\n",
        "print(\"------------------------------\")\n",
        "for i in range(num):\n",
        "    for j in range(num-i):\n",
        "        print(\"  \",end=\"\")\n",
        "    for j in range(i):\n",
        "        print(\"*\",end=\"   \")\n",
        "    print()\n",
        "for i in range(num):\n",
        "    for j in range(i):\n",
        "        print(\"  \",end=\"\")\n",
        "    for j in range(num-i):\n",
        "        print(\"*\",end=\"   \")\n",
        "    for j in range(i+1):\n",
        "        print(\"  \",end=\"\")\n",
        "    print()"
      ],
      "metadata": {
        "id": "jn8Q2Tbp0gmT",
        "colab": {
          "base_uri": "https://localhost:8080/"
        },
        "outputId": "b3cc81cb-fc38-4fa4-ed89-0cd52770c9e1"
      },
      "execution_count": null,
      "outputs": [
        {
          "output_type": "stream",
          "name": "stdout",
          "text": [
            "Enter the number of rows: 5\n",
            "* \n",
            "* * \n",
            "* * * \n",
            "* * * * \n",
            "* * * * * \n",
            "------------------------------\n",
            "* * * * * \n",
            "* * * * \n",
            "* * * \n",
            "* * \n",
            "* \n",
            "------------------------------\n",
            "1 \n",
            "1 0 \n",
            "1 0 1 \n",
            "1 0 1 0 \n",
            "1 0 1 0 1 \n",
            "------------------------------\n",
            "          \n",
            "        *   \n",
            "      *   *   \n",
            "    *   *   *   \n",
            "  *   *   *   *   \n",
            "*   *   *   *   *     \n",
            "  *   *   *   *       \n",
            "    *   *   *         \n",
            "      *   *           \n",
            "        *             \n"
          ]
        }
      ]
    },
    {
      "cell_type": "markdown",
      "source": [
        "# **Assignment - 3**"
      ],
      "metadata": {
        "id": "AXYrE_qaHeX-"
      }
    },
    {
      "cell_type": "markdown",
      "source": [
        "1. Print the first 5 characters of the string using positive indexing."
      ],
      "metadata": {
        "id": "uJneoeJqHttm"
      }
    },
    {
      "cell_type": "code",
      "source": [
        "str1 = \"Hello, World!\"\n",
        "print(str1[:5])"
      ],
      "metadata": {
        "colab": {
          "base_uri": "https://localhost:8080/"
        },
        "id": "oyGA9zYfH-uG",
        "outputId": "30096cba-00ee-43a2-cff1-598468541f0d"
      },
      "execution_count": null,
      "outputs": [
        {
          "output_type": "stream",
          "name": "stdout",
          "text": [
            "Hello\n"
          ]
        }
      ]
    },
    {
      "cell_type": "markdown",
      "source": [
        "2. Print the last 5 characters of the string using negative indexing."
      ],
      "metadata": {
        "id": "vvE_2VlHIS39"
      }
    },
    {
      "cell_type": "code",
      "source": [
        "str1 = \"Hello, World!\"\n",
        "print(str1[-5:])"
      ],
      "metadata": {
        "colab": {
          "base_uri": "https://localhost:8080/"
        },
        "id": "c3MrclmmIWWe",
        "outputId": "4d47b363-30c5-44fa-c69c-10d1f2697e0d"
      },
      "execution_count": null,
      "outputs": [
        {
          "output_type": "stream",
          "name": "stdout",
          "text": [
            "orld!\n"
          ]
        }
      ]
    },
    {
      "cell_type": "markdown",
      "source": [
        "3. Extract and print a substring from index 2 to 10 using slicing."
      ],
      "metadata": {
        "id": "8R9UNezKIfcl"
      }
    },
    {
      "cell_type": "code",
      "source": [
        "str1 = \"Hello, World!\"\n",
        "print(str1[2:10])"
      ],
      "metadata": {
        "colab": {
          "base_uri": "https://localhost:8080/"
        },
        "id": "ulkwhdVFIhsl",
        "outputId": "67f4aeda-4736-4280-c352-4167121188ae"
      },
      "execution_count": null,
      "outputs": [
        {
          "output_type": "stream",
          "name": "stdout",
          "text": [
            "llo, Wor\n"
          ]
        }
      ]
    },
    {
      "cell_type": "markdown",
      "source": [
        "4. Extract and print every third character of the string using slicing with a step value."
      ],
      "metadata": {
        "id": "IwmBYRwcIozt"
      }
    },
    {
      "cell_type": "code",
      "source": [
        "str1 = \"Hello, World!\"\n",
        "print(str1[::3])"
      ],
      "metadata": {
        "colab": {
          "base_uri": "https://localhost:8080/"
        },
        "id": "TaR9MVoHIqie",
        "outputId": "975a71bf-ae1b-47b2-e64e-9f5f27f25838"
      },
      "execution_count": null,
      "outputs": [
        {
          "output_type": "stream",
          "name": "stdout",
          "text": [
            "Hl r!\n"
          ]
        }
      ]
    },
    {
      "cell_type": "markdown",
      "source": [
        "5. Write a Python program that performs the following operations on a user-input\n",
        "string:<br>\n",
        "    1. Print the length of the string.<br>\n",
        "    2. Remove leading and trailing spaces from the string and print the result.<br>\n",
        "    3. Replace all occurrences of the word \"Python\" with \"Java\" and print the updated string.<br>\n",
        "    4. Print the index of the first occurrence of the substring \"World\" in the string.<br>\n",
        "    5. Convert the entire string to uppercase and print it.<br>\n",
        "    6. Split the string into a list of words and print each word on a new line.<br>\n",
        "    7. Check if the string starts with \"Hello\" and ends with \"Programming.\" and print the results.<br>"
      ],
      "metadata": {
        "id": "vSm-m6p0I0x3"
      }
    },
    {
      "cell_type": "code",
      "source": [
        "str1 = input(\"Enter a string: \")\n",
        "print(\"Length of string: \",len(str1))\n",
        "print(\"String after removing leading and trailing spaces: \",str1.strip())\n",
        "print(\"String after replacing Python with Java: \",str1.replace(\"Python\",\"Java\"))\n",
        "print(\"Index of first occurrence of substring World: \",str1.index(\"World\"))\n",
        "print(\"String in uppercase: \",str1.upper())\n",
        "print(\"List of words: \")\n",
        "for i in str1.split():\n",
        "    print(i)\n",
        "print(\"String starts with Hello and ends with Programming: \",str1.startswith(\"Hello\") and str1.endswith(\"Programming\"))"
      ],
      "metadata": {
        "colab": {
          "base_uri": "https://localhost:8080/"
        },
        "id": "SZ4HAK70JTdt",
        "outputId": "8cd8ecdc-0d4b-4e1f-9f23-a3a0721a822e"
      },
      "execution_count": null,
      "outputs": [
        {
          "output_type": "stream",
          "name": "stdout",
          "text": [
            "Enter a string: Hello World i do Python Programming\n",
            "Length of string:  35\n",
            "String after removing leading and trailing spaces:  Hello World i do Python Programming\n",
            "String after replacing Python with Java:  Hello World i do Java Programming\n",
            "Index of first occurrence of substring World:  6\n",
            "String in uppercase:  HELLO WORLD I DO PYTHON PROGRAMMING\n",
            "List of words: \n",
            "Hello\n",
            "World\n",
            "i\n",
            "do\n",
            "Python\n",
            "Programming\n",
            "String starts with Hello and ends with Programming:  True\n"
          ]
        }
      ]
    },
    {
      "cell_type": "markdown",
      "source": [
        "6. Python program to check if the string is palindrome or not."
      ],
      "metadata": {
        "id": "2-6SuFZcKhbO"
      }
    },
    {
      "cell_type": "code",
      "source": [
        "str1 = input(\"Enter a string: \")\n",
        "if str1==str1[::-1]:\n",
        "    print(\"String is palindrome\")\n",
        "else:\n",
        "    print(\"String is not palindrome\")"
      ],
      "metadata": {
        "colab": {
          "base_uri": "https://localhost:8080/"
        },
        "id": "BU04RiKHKn7s",
        "outputId": "7680482d-1ad6-4f10-8c98-59c91b6aace7"
      },
      "execution_count": null,
      "outputs": [
        {
          "output_type": "stream",
          "name": "stdout",
          "text": [
            "Enter a string: ababa\n",
            "String is palindrome\n"
          ]
        }
      ]
    },
    {
      "cell_type": "markdown",
      "source": [
        "7. Python program to find the length of a string"
      ],
      "metadata": {
        "id": "wl1lMVp8K8aV"
      }
    },
    {
      "cell_type": "code",
      "source": [
        "str1 = input(\"Enter a string: \")\n",
        "count = 0\n",
        "for i in str1:\n",
        "    count += 1\n",
        "print(\"Length of string: \",count)"
      ],
      "metadata": {
        "colab": {
          "base_uri": "https://localhost:8080/"
        },
        "id": "p1GSHx2OLCNt",
        "outputId": "1283c6f1-deb9-45fe-cf53-a519e4a95283"
      },
      "execution_count": null,
      "outputs": [
        {
          "output_type": "stream",
          "name": "stdout",
          "text": [
            "Enter a string: abbbababc\n",
            "Length of string:  9\n"
          ]
        }
      ]
    },
    {
      "cell_type": "markdown",
      "source": [
        "# **Assignment - 4**"
      ],
      "metadata": {
        "id": "B09nt2H9LShN"
      }
    },
    {
      "cell_type": "markdown",
      "source": [
        "1. Create a list of the first 10 positive integers using square brackets.<br>\n",
        "    1. Convert a string \"apple\" into a list of its characters using the list() constructor.<br>\n",
        "    2. Generate a list of squares of numbers from 1 to 10 using a list comprehension.<br>\n",
        "    3. Create a list with the number 7 repeated 8 times using list multiplication.<br>\n",
        "    4. Print all created lists."
      ],
      "metadata": {
        "id": "sELfOpkK_uMK"
      }
    },
    {
      "cell_type": "code",
      "source": [
        "l1 = [1,2,4,8,16,32,64,128,256,512,1024]\n",
        "l2 = list(\"apple\")\n",
        "l3 = [i for i in range(1,11)]\n",
        "l4 = [7]*8\n",
        "print(l1,l2,l3,l4,sep='\\n')"
      ],
      "metadata": {
        "colab": {
          "base_uri": "https://localhost:8080/"
        },
        "id": "EIiynU_VAQKw",
        "outputId": "93110781-a064-4f4a-8640-f5f2bac25874"
      },
      "execution_count": null,
      "outputs": [
        {
          "output_type": "stream",
          "name": "stdout",
          "text": [
            "[1, 2, 4, 8, 16, 32, 64, 128, 256, 512, 1024]\n",
            "['a', 'p', 'p', 'l', 'e']\n",
            "[1, 2, 3, 4, 5, 6, 7, 8, 9, 10]\n",
            "[7, 7, 7, 7, 7, 7, 7, 7]\n"
          ]
        }
      ]
    },
    {
      "cell_type": "markdown",
      "source": [
        "2. Create a list with the elements ['apple', 'banana', 'cherry'] and print its length.<br>\n",
        "  1. Count the number of occurrences of 'banana' in the list.<br>\n",
        "  2. Find the index of 'cherry' in the list.<br>\n",
        "  3. Append the element 'date' to the end of the list.<br>\n",
        "  4. Insert the element 'blueberry' at the second position in the list using the insert() method.<br>\n",
        "  5. Extend the list with another list ['fig', 'grape'].<br>\n",
        "  6. Remove the first occurrence of 'apple' from the list.<br>\n",
        "  7. Pop the last element from the list and print it.<br>\n",
        "  8. Reverse the order of elements in the list.<br>\n",
        "  9. Sort the list in alphabetical order.<br>\n",
        "  10. Create a copy of the sorted list."
      ],
      "metadata": {
        "id": "IVS_8WTsZuJ4"
      }
    },
    {
      "cell_type": "code",
      "source": [
        "l1 = ['apple','banana','cherry','apple','cherry','banana','banana']\n",
        "print(\"Length of list: \",len(l1))\n",
        "print(\"Number of occurrences of banana: \",l1.count('banana'))\n",
        "print(\"Index of cherry: \",l1.index('cherry'))\n",
        "l1.append('date')\n",
        "print(\"List after appending date: \",l1)\n",
        "l1.insert(1,'blueberry')\n",
        "print(\"List after appending date and inserting blueberry: \",l1)\n",
        "l1.extend(['fig', 'grape'])\n",
        "print(\"List after removing apple: \",l1)\n",
        "l1.remove('apple')\n",
        "print(\"Popped element: \",l1.pop())\n",
        "l1.reverse()\n",
        "print(\"Reversed list: \",l1)\n",
        "l1.sort()\n",
        "print(\"Sorted list: \",l1)\n",
        "l2 = l1.copy()\n",
        "print(\"Copy of sorted list: \",l2)"
      ],
      "metadata": {
        "colab": {
          "base_uri": "https://localhost:8080/"
        },
        "id": "3ZaTmdYpaYcl",
        "outputId": "22c57583-a064-4162-f18d-5aef151602ff"
      },
      "execution_count": null,
      "outputs": [
        {
          "output_type": "stream",
          "name": "stdout",
          "text": [
            "Length of list:  7\n",
            "Number of occurrences of banana:  3\n",
            "Index of cherry:  2\n",
            "List after appending date:  ['apple', 'banana', 'cherry', 'apple', 'cherry', 'banana', 'banana', 'date']\n",
            "List after appending date and inserting blueberry:  ['apple', 'blueberry', 'banana', 'cherry', 'apple', 'cherry', 'banana', 'banana', 'date']\n",
            "List after removing apple:  ['apple', 'blueberry', 'banana', 'cherry', 'apple', 'cherry', 'banana', 'banana', 'date', 'fig', 'grape']\n",
            "Popped element:  grape\n",
            "Reversed list:  ['fig', 'date', 'banana', 'banana', 'cherry', 'apple', 'cherry', 'banana', 'blueberry']\n",
            "Sorted list:  ['apple', 'banana', 'banana', 'banana', 'blueberry', 'cherry', 'cherry', 'date', 'fig']\n",
            "Copy of sorted list:  ['apple', 'banana', 'banana', 'banana', 'blueberry', 'cherry', 'cherry', 'date', 'fig']\n"
          ]
        }
      ]
    },
    {
      "cell_type": "markdown",
      "source": [
        "3. Create a list of integers from 1 to 20."
      ],
      "metadata": {
        "id": "3oA9-bQ1GNT-"
      }
    },
    {
      "cell_type": "code",
      "source": [
        "l1 = [i for i in range(1,21)]\n",
        "print(l1)"
      ],
      "metadata": {
        "colab": {
          "base_uri": "https://localhost:8080/"
        },
        "id": "C6ByjbalGVpr",
        "outputId": "17ed5ebc-6f55-4d17-ac20-6a44779d6d39"
      },
      "execution_count": null,
      "outputs": [
        {
          "output_type": "stream",
          "name": "stdout",
          "text": [
            "[1, 2, 3, 4, 5, 6, 7, 8, 9, 10, 11, 12, 13, 14, 15, 16, 17, 18, 19, 20]\n"
          ]
        }
      ]
    },
    {
      "cell_type": "markdown",
      "source": [
        "4. Use slicing to obtain:<br>\n",
        "  1. A sublist containing every second element starting from index 0.<br>\n",
        "  2. A sublist containing elements from index 5 to 15.<br>\n",
        "  3. A sublist containing elements from the end of the list up to but not including index 10 in reverse order."
      ],
      "metadata": {
        "id": "pErADAjDGlT7"
      }
    },
    {
      "cell_type": "code",
      "source": [
        "l1 = [i for i in range(1,21)]\n",
        "print(\"Every second element starting from index 0: \",l1[::2])\n",
        "print(\"Elements from index 5 to 15: \",l1[5:16])\n",
        "print(\"Elements from the end of the list up to but not including index 10 in reverse order: \",l1[-10::-1])"
      ],
      "metadata": {
        "colab": {
          "base_uri": "https://localhost:8080/"
        },
        "id": "6b59zRG-GyA5",
        "outputId": "39b01981-3e32-482c-cd77-d5f13e0378de"
      },
      "execution_count": null,
      "outputs": [
        {
          "output_type": "stream",
          "name": "stdout",
          "text": [
            "Every second element starting from index 0:  [1, 3, 5, 7, 9, 11, 13, 15, 17, 19]\n",
            "Elements from index 5 to 15:  [6, 7, 8, 9, 10, 11, 12, 13, 14, 15, 16]\n",
            "Elements from the end of the list up to but not including index 10 in reverse order:  [11, 10, 9, 8, 7, 6, 5, 4, 3, 2, 1]\n"
          ]
        }
      ]
    },
    {
      "cell_type": "markdown",
      "source": [
        "5. Print the original list and all the sliced sublists."
      ],
      "metadata": {
        "id": "4StrQZYXLfcD"
      }
    },
    {
      "cell_type": "code",
      "source": [
        "l1 = [\"red\",\"yellow\",\"green\",\"blue\",\"orange\",\"black\"]\n",
        "print(\"Original list: \",l1)\n",
        "print(\"Every second element starting from index 0: \",l1[::2])"
      ],
      "metadata": {
        "colab": {
          "base_uri": "https://localhost:8080/"
        },
        "id": "ZzFXKCvrLg4D",
        "outputId": "c6a6fe6c-b872-480e-8faa-8ad48d493849"
      },
      "execution_count": null,
      "outputs": [
        {
          "output_type": "stream",
          "name": "stdout",
          "text": [
            "Original list:  ['red', 'yellow', 'green', 'blue', 'orange', 'black']\n",
            "Every second element starting from index 0:  ['red', 'green', 'orange']\n"
          ]
        }
      ]
    },
    {
      "cell_type": "markdown",
      "source": [
        "6. Create a list of integers from 1 to 30."
      ],
      "metadata": {
        "id": "_gTK5nkVMJZg"
      }
    },
    {
      "cell_type": "code",
      "source": [
        "l1  = [i for i in range(1,31)]\n",
        "print(l1)"
      ],
      "metadata": {
        "colab": {
          "base_uri": "https://localhost:8080/"
        },
        "id": "yd1WwOypMLC5",
        "outputId": "2b1b66b3-65fc-487d-ba87-e5da339df145"
      },
      "execution_count": null,
      "outputs": [
        {
          "output_type": "stream",
          "name": "stdout",
          "text": [
            "[1, 2, 3, 4, 5, 6, 7, 8, 9, 10, 11, 12, 13, 14, 15, 16, 17, 18, 19, 20, 21, 22, 23, 24, 25, 26, 27, 28, 29, 30]\n"
          ]
        }
      ]
    },
    {
      "cell_type": "markdown",
      "source": [
        "7. Use a list comprehension to create:<br>\n",
        "  1. A list of squares of all even numbers from the original list.<br>\n",
        "  2. A list of the cube roots of numbers from the original list that are divisible by 3.<br>\n",
        "  3. A list of tuples where each tuple contains an element from the original list and its corresponding index, but only for elements that are greater than 15.<br>\n",
        "  4. Print all the resulting lists."
      ],
      "metadata": {
        "id": "kGCqTAq7MSOR"
      }
    },
    {
      "cell_type": "code",
      "source": [
        "l1 = [1, 2, 3, 4, 5, 6, 15, 16, 18, 20, 21, 24, 30]\n",
        "print([i**2 for i in l1 if i%2==0])\n",
        "print([i**(1/3) for i in l1 if i%3==0])\n",
        "print([(x, i) for i, x in enumerate(l1) if x > 15])"
      ],
      "metadata": {
        "colab": {
          "base_uri": "https://localhost:8080/"
        },
        "id": "u3GLOXBNPOYT",
        "outputId": "b3a42ff5-27fc-49a3-e438-b21fb67f983c"
      },
      "execution_count": null,
      "outputs": [
        {
          "output_type": "stream",
          "name": "stdout",
          "text": [
            "[4, 16, 36, 256, 324, 400, 576, 900]\n",
            "[1.4422495703074083, 1.8171205928321397, 2.46621207433047, 2.6207413942088964, 2.7589241763811203, 2.8844991406148166, 3.1072325059538586]\n",
            "[(16, 7), (18, 8), (20, 9), (21, 10), (24, 11), (30, 12)]\n"
          ]
        }
      ]
    },
    {
      "cell_type": "markdown",
      "source": [
        "# **Assignment - 5**"
      ],
      "metadata": {
        "id": "UgsNCdtCUyDt"
      }
    },
    {
      "cell_type": "markdown",
      "source": [
        "1. Write a Python program that demonstrates the creation of tuples using different methods:<br>\n",
        "  1. Create a tuple with mixed data types (e.g., integers, strings, and floats).<br>\n",
        "  2. Create a tuple from a list and print it.<br>\n",
        "  3. Create a tuple from a range of numbers.<br>\n",
        "  4. Use tuple unpacking to extract values from a tuple and print them."
      ],
      "metadata": {
        "id": "jYW4Gi2oWZJS"
      }
    },
    {
      "cell_type": "code",
      "source": [
        "t1 = (1,2,1.2,23.4,\"a\",\"b\",\"hello\")\n",
        "t2 = tuple([1,2,3,4,5])\n",
        "t3 = tuple(range(1,11))\n",
        "print(t1,t2,t3,sep='\\n')"
      ],
      "metadata": {
        "colab": {
          "base_uri": "https://localhost:8080/"
        },
        "id": "n5r9KYS_Wq2Z",
        "outputId": "b240be83-f7b1-4978-c95b-5420ab15909d"
      },
      "execution_count": null,
      "outputs": [
        {
          "output_type": "stream",
          "name": "stdout",
          "text": [
            "(1, 2, 1.2, 23.4, 'a', 'b', 'hello')\n",
            "(1, 2, 3, 4, 5)\n",
            "(1, 2, 3, 4, 5, 6, 7, 8, 9, 10)\n"
          ]
        }
      ]
    },
    {
      "cell_type": "markdown",
      "source": [
        "2. Write a Python program that demonstrates the following tuple operations:<br>\n",
        "  1. Create a single-element tuple and print its type.<br>\n",
        "  2. Create a nested tuple and access its elements.<br>\n",
        "  3. Concatenate two tuples and repeat the resulting tuple multiple times.<br>\n",
        "  4. Demonstrate that tuples are immutable by attempting to change an element\n",
        "and handling the resulting error."
      ],
      "metadata": {
        "id": "MCl27DnXd8vB"
      }
    },
    {
      "cell_type": "code",
      "source": [
        "t1 = (100,)\n",
        "t2 = (1,2,3,(4,5,6))\n",
        "t3 = t1+t2\n",
        "print(type(t1),t2,t3,sep='\\n')\n",
        "try:\n",
        "    t1[0] = 10\n",
        "except:\n",
        "    print(\"Tuples are immutable\")"
      ],
      "metadata": {
        "colab": {
          "base_uri": "https://localhost:8080/"
        },
        "id": "yhIh88_jdyDg",
        "outputId": "1804f14a-20d5-4695-becc-e6a282f1f333"
      },
      "execution_count": null,
      "outputs": [
        {
          "output_type": "stream",
          "name": "stdout",
          "text": [
            "<class 'tuple'>\n",
            "(1, 2, 3, (4, 5, 6))\n",
            "(100, 1, 2, 3, (4, 5, 6))\n",
            "Tuples are immutable\n"
          ]
        }
      ]
    },
    {
      "cell_type": "markdown",
      "source": [
        "3. Write a Python program that performs the following operations on tuples:<br>\n",
        "  1. Create a tuple containing the integers from 10 to 1.<br>\n",
        "  2. Print the number of elements in the tuple.<br>\n",
        "  3. Count the number of occurrences of the number 5 in the tuple and print the result.<br>\n",
        "  4. Find the index of the first occurrence of the number 7 and print it.<br>\n",
        "  5. Create and print a sorted version of the tuple in ascending order.<br>\n",
        "  6. Find and print the minimum and maximum values in the tuple .<br>\n",
        "  7. Create and print a reversed version of the tuple.<br>"
      ],
      "metadata": {
        "id": "TpctAxiTgrzj"
      }
    },
    {
      "cell_type": "code",
      "source": [
        "t1 = ([i for i in range(10,0,-1)])\n",
        "print(len(t1))\n",
        "print(t1.count(5))\n",
        "print(t1.index(7))\n",
        "print(sorted(t1))\n",
        "print(min(t1),max(t1))\n",
        "print(tuple(reversed(t1)))"
      ],
      "metadata": {
        "colab": {
          "base_uri": "https://localhost:8080/"
        },
        "id": "sVXWWZSCgjgp",
        "outputId": "22a35220-a11d-42a8-fe94-6361850a2eec"
      },
      "execution_count": null,
      "outputs": [
        {
          "output_type": "stream",
          "name": "stdout",
          "text": [
            "10\n",
            "1\n",
            "3\n",
            "[1, 2, 3, 4, 5, 6, 7, 8, 9, 10]\n",
            "1 10\n",
            "(1, 2, 3, 4, 5, 6, 7, 8, 9, 10)\n"
          ]
        }
      ]
    },
    {
      "cell_type": "markdown",
      "source": [
        "4. Write a Python program that demonstrates the following tasks using tuple functions and methods:<br>\n",
        "  1. Create a tuple of float numbers with some duplicates, e.g., (3.14,2.71,1.41,3.14,2.71).<br>\n",
        "  2. Print the length of the tuple.<br>\n",
        "  3. Count how many times the value 3.14 appears in the tuple.<br>\n",
        "  4. Find the index of the first occurrence of 1.41.<br>\n",
        "  5. Create and print a sorted version of the tuple in descending order.<br>\n",
        "  6. Find and print the smallest and largest values in the tuple.<br>\n",
        "  7. Create and print a reversed version of the tuple."
      ],
      "metadata": {
        "id": "mni-BnCZoG-h"
      }
    },
    {
      "cell_type": "code",
      "source": [
        "t1 = (3.14,2.71,1.41,3.14,2.71)\n",
        "print(len(t1))\n",
        "print(t1.count(3.14))\n",
        "print(t1.index(1.41))\n",
        "print(sorted(t1,reverse=True))\n",
        "print(min(t1),max(t1))\n",
        "print(tuple(reversed(t1)))"
      ],
      "metadata": {
        "colab": {
          "base_uri": "https://localhost:8080/"
        },
        "id": "YjVUbhltkrLI",
        "outputId": "853d3522-9d11-455a-b170-76aa57fe6822"
      },
      "execution_count": null,
      "outputs": [
        {
          "output_type": "stream",
          "name": "stdout",
          "text": [
            "5\n",
            "2\n",
            "2\n",
            "[3.14, 3.14, 2.71, 2.71, 1.41]\n",
            "1.41 3.14\n",
            "(2.71, 3.14, 1.41, 2.71, 3.14)\n"
          ]
        }
      ]
    },
    {
      "cell_type": "code",
      "source": [],
      "metadata": {
        "id": "E7jaKbikplUv"
      },
      "execution_count": null,
      "outputs": []
    }
  ]
}